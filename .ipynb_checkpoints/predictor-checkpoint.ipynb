{
 "cells": [
  {
   "cell_type": "markdown",
   "metadata": {},
   "source": [
    "# Set up and initializations\n",
    "\n",
    "Run this at the start."
   ]
  },
  {
   "cell_type": "code",
   "execution_count": 1,
   "metadata": {
    "collapsed": false
   },
   "outputs": [],
   "source": [
    "import pandas as pd\n",
    "from IPython.display import display\n",
    "\n",
    "# Dictionary that maps from abbreviation to feature in table (i.e. r0 = 'White alone')\n",
    "from dictionary import dictionary as dictt \n",
    "\n",
    "# Initializing tables\n",
    "maritalStatus = pd.read_csv('data/maritalStatus.csv') \n",
    "race = pd.read_csv('data/race.csv') \n",
    "nativity = pd.read_csv('data/nativity.csv')   \n",
    "education = pd.read_csv('data/education.csv') \n",
    "employment = pd.read_csv('data/employment.csv') \n",
    "income = pd.read_csv('data/income.csv') \n",
    "tenure = pd.read_csv('data/tenure.csv')  \n",
    "\n",
    "# Setting values for percentages of each marriage status\n",
    "mStats = maritalStatus['Percentage']"
   ]
  },
  {
   "cell_type": "markdown",
   "metadata": {},
   "source": [
    "# Helper Methods\n",
    "\n",
    "```jointP(event, numMarriages)``` returns the joint probability of an event and a marriage outcome. It expects the following as inputs:\n",
    "1. event is a string abbreviation of a subfeature (i.e. r0 --> 'White Alone')\n",
    "2. numMarriages is an int, where the number indicates number of marriages (i.e. 0 for never, 1 for once, 2 for twice, 3 for three times or more)\n",
    "\n",
    "```conditionalP(event, numMarriages)``` returns the conditional probability between an event and a marriage outcome. Expects the same inputs as jointP"
   ]
  },
  {
   "cell_type": "code",
   "execution_count": 2,
   "metadata": {
    "collapsed": false
   },
   "outputs": [],
   "source": [
    "# Returns the joint probability of an event and a marriage outcome\n",
    "def jointP(event, numMarriages):\n",
    "    # Look up feature mapped to event abbreviation in dictionary, dictt\n",
    "    e = dictt[event]\n",
    "    if (len(event) == 2):\n",
    "        feature = event[0]\n",
    "        if (feature == 'r'):\n",
    "            return race[e][numMarriages]\n",
    "        elif (feature == 'n'):\n",
    "            return nativity[e][numMarriages]\n",
    "        elif (feature == 'i'):\n",
    "            return income[e][numMarriages]\n",
    "        elif (feature == 't'):\n",
    "            return tenure[e][numMarriages]\n",
    "        else:\n",
    "            return \"Unacceptable input. Feature not found.\"\n",
    "    else:\n",
    "        feature = event[:2]\n",
    "        if (feature == 'ed'):\n",
    "            return education[e][numMarriages]\n",
    "        elif (feature == 'em'):\n",
    "            return employment[e][numMarriages]\n",
    "        else:\n",
    "            return \"Unacceptable input. Feature not found.\"\n",
    "    \n",
    "# Returns the conditional probability between an event and a marriage outcome\n",
    "def conditionalP(event, numMarriages):\n",
    "    return jointP(event, numMarriages)/mStats[numMarriages]\n"
   ]
  },
  {
   "cell_type": "markdown",
   "metadata": {},
   "source": [
    "# Prediction\n",
    "\n",
    "Implements a Naive Bayes algorithm to predict the probabilities of a person being married once, twice, three or more times, or never based on his/her background in race, nativity, education, employment, income, and/or tenure."
   ]
  },
  {
   "cell_type": "code",
   "execution_count": 3,
   "metadata": {
    "collapsed": false
   },
   "outputs": [
    {
     "name": "stdout",
     "output_type": "stream",
     "text": [
      "('e is ', 'Hispanic (of any race)')\n",
      "('e is ', 'Hispanic (of any race)')\n",
      "('e is ', 'Hispanic (of any race)')\n",
      "('e is ', 'Hispanic (of any race)')\n",
      "('e is ', 'Native')\n",
      "('e is ', 'Native')\n",
      "('e is ', 'Native')\n",
      "('e is ', 'Native')\n",
      "('e is ', 'High School Graduate')\n",
      "('e is ', 'High School Graduate')\n",
      "('e is ', 'High School Graduate')\n",
      "('e is ', 'High School Graduate')\n",
      "('e is ', 'Not in labor force')\n",
      "('e is ', 'Not in labor force')\n",
      "('e is ', 'Not in labor force')\n",
      "('e is ', 'Not in labor force')\n",
      "('e is ', '$25,000 to $49,999')\n",
      "('e is ', '$25,000 to $49,999')\n",
      "('e is ', '$25,000 to $49,999')\n",
      "('e is ', '$25,000 to $49,999')\n",
      "('e is ', 'Owns home')\n",
      "('e is ', 'Owns home')\n",
      "('e is ', 'Owns home')\n",
      "('e is ', 'Owns home')\n",
      "(0.030973182540595029, 'three')\n",
      "(0.1488216633871334, 'twice')\n",
      "(0.21561581992418397, 'never')\n",
      "(0.60458933414808769, 'once')\n"
     ]
    }
   ],
   "source": [
    "from Queue import PriorityQueue\n",
    "\n",
    "# Prints out probabilities of all the marriage outcome in ASCENDING order given a person's background\n",
    "# features is an array of string abbreviations of a person's background\n",
    "def predict(features):\n",
    "    # Initializing relative probabilityies for 4 types of marriages\n",
    "    never = mStats[0]\n",
    "    once = mStats[1]\n",
    "    twice = mStats[2]\n",
    "    three = mStats[3]\n",
    "    \n",
    "    # Iterate through each feature\n",
    "    for f in features:\n",
    "        # Calculate relative probability for 4 marriage outcomes\n",
    "        never *= conditionalP(f, 0)\n",
    "        once *= conditionalP(f, 1)\n",
    "        twice *= conditionalP(f, 2)\n",
    "        three *= conditionalP(f, 3)\n",
    "    \n",
    "    # Calculate actual probability for 4 marriage outcomes\n",
    "    total = never + once + twice + three\n",
    "    p0 = never/total\n",
    "    p1 = once/total\n",
    "    p2 = twice/total\n",
    "    p3 = three/total\n",
    "    \n",
    "    q = PriorityQueue()\n",
    "    q.put((p0,'never'))\n",
    "    q.put((p1,'once'))\n",
    "    q.put((p2,'twice'))\n",
    "    q.put((p3,'three'))\n",
    "\n",
    "    while not q.empty():\n",
    "        print q.get()\n",
    "\n",
    "predict(['r8', 'n0', 'ed1', 'em2', 'i1', 't0'])        "
   ]
  },
  {
   "cell_type": "code",
   "execution_count": null,
   "metadata": {
    "collapsed": true
   },
   "outputs": [],
   "source": []
  }
 ],
 "metadata": {
  "anaconda-cloud": {},
  "kernelspec": {
   "display_name": "Python 2",
   "language": "python",
   "name": "python2"
  },
  "language_info": {
   "codemirror_mode": {
    "name": "ipython",
    "version": 2
   },
   "file_extension": ".py",
   "mimetype": "text/x-python",
   "name": "python",
   "nbconvert_exporter": "python",
   "pygments_lexer": "ipython2",
   "version": "2.7.12"
  }
 },
 "nbformat": 4,
 "nbformat_minor": 0
}
