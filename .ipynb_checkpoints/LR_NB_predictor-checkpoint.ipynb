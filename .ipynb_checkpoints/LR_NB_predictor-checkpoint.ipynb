{
 "cells": [
  {
   "cell_type": "markdown",
   "metadata": {
    "collapsed": true
   },
   "source": [
    "# Set up\n",
    "\n",
    "Run this first. Imports modules and preprocesses data."
   ]
  },
  {
   "cell_type": "code",
   "execution_count": 25,
   "metadata": {
    "collapsed": false
   },
   "outputs": [],
   "source": [
    "import pandas as pd\n",
    "from IPython.display import display\n",
    "import numpy as np\n",
    "import matplotlib.pyplot as plt\n",
    "from sklearn.linear_model import LogisticRegression\n",
    "from sklearn.model_selection import train_test_split\n",
    "\n",
    "# Read data\n",
    "adult = pd.read_csv('adult.data.csv')\n",
    "\n",
    "# Remove rows with '?' value in cell for columns: workclass, occupation, and native_country\n",
    "adult = adult[adult.workclass.str.strip() != '?']\n",
    "adult = adult[adult.occupation.str.strip() != '?']\n",
    "adult = adult[adult.native_country.str.strip() != '?']\n",
    "\n",
    "# Set labels to marital status\n",
    "labels = adult['marital_status']\n",
    "\n",
    "# Set features (everything but marital status)\n",
    "features = adult.drop('marital_status', axis=1) \n",
    "\n",
    "# One-hot encoding for features and labels\n",
    "features2 = pd.get_dummies(features)\n",
    "# labels2 = pd.get_dummies(labels)\n",
    "\n",
    "x = features2.values\n",
    "y = labels.values\n"
   ]
  },
  {
   "cell_type": "markdown",
   "metadata": {},
   "source": [
    "# Logistic Regression"
   ]
  },
  {
   "cell_type": "code",
   "execution_count": 29,
   "metadata": {
    "collapsed": false
   },
   "outputs": [
    {
     "name": "stdout",
     "output_type": "stream",
     "text": [
      "('x shape: ', (15081, 74))\n",
      "('y shape: ', (15081,))\n",
      "0.688880047742\n",
      "0.688747430542\n"
     ]
    }
   ],
   "source": [
    "# Instantiate the model\n",
    "logreg = LogisticRegression()\n",
    "\n",
    "# Split data into training and test sets\n",
    "x_train, x_test, y_train, y_test = train_test_split(x, y, test_size=0.5, random_state=0)\n",
    "\n",
    "print ('x shape: ', x_train.shape)\n",
    "print ('y shape: ', y_train.shape)\n",
    "# fit the model with data\n",
    "logreg.fit(x_train, y_train)\n",
    "\n",
    "# Accuracy\n",
    "print (logreg.score(x_train, y_train))\n",
    "print (logreg.score(x_test, y_test))"
   ]
  },
  {
   "cell_type": "code",
   "execution_count": null,
   "metadata": {
    "collapsed": true
   },
   "outputs": [],
   "source": []
  }
 ],
 "metadata": {
  "kernelspec": {
   "display_name": "Python 2",
   "language": "python",
   "name": "python2"
  },
  "language_info": {
   "codemirror_mode": {
    "name": "ipython",
    "version": 2
   },
   "file_extension": ".py",
   "mimetype": "text/x-python",
   "name": "python",
   "nbconvert_exporter": "python",
   "pygments_lexer": "ipython2",
   "version": "2.7.12"
  }
 },
 "nbformat": 4,
 "nbformat_minor": 0
}
