{
 "cells": [
  {
   "cell_type": "markdown",
   "metadata": {
    "collapsed": true
   },
   "source": [
    "# Set up\n",
    "\n",
    "Run this first. Imports modules and preprocesses data."
   ]
  },
  {
   "cell_type": "code",
   "execution_count": 7,
   "metadata": {
    "collapsed": false
   },
   "outputs": [],
   "source": [
    "import pandas as pd\n",
    "from IPython.display import display\n",
    "from sklearn.linear_model import LogisticRegression\n",
    "from sklearn.naive_bayes import GaussianNB\n",
    "from sklearn.model_selection import train_test_split\n",
    "\n",
    "# Read data\n",
    "adult = pd.read_csv('adult.data.csv')\n",
    "\n",
    "# Remove rows with '?' value in cell for columns: workclass, occupation, and native_country\n",
    "adult = adult[adult.workclass.str.strip() != '?']\n",
    "adult = adult[adult.occupation.str.strip() != '?']\n",
    "adult = adult[adult.native_country.str.strip() != '?']\n",
    "\n",
    "# Set labels to marital status\n",
    "labels = adult['marital_status']\n",
    "\n",
    "# Set features to everything but marital status\n",
    "features = adult.drop('marital_status', axis=1) \n",
    "\n",
    "# One-hot encoding for features\n",
    "features_processed = pd.get_dummies(features)\n",
    "\n",
    "# Grab values of features and labels and set them to x, y\n",
    "x = features_processed.values\n",
    "y = labels.values\n"
   ]
  },
  {
   "cell_type": "markdown",
   "metadata": {},
   "source": [
    "# Logistic Regression"
   ]
  },
  {
   "cell_type": "code",
   "execution_count": 8,
   "metadata": {
    "collapsed": false
   },
   "outputs": [
    {
     "name": "stdout",
     "output_type": "stream",
     "text": [
      "0.690390672487\n",
      "0.691587235806\n"
     ]
    }
   ],
   "source": [
    "# Instantiate the model\n",
    "logreg = LogisticRegression()\n",
    "\n",
    "# Split data into training and test sets\n",
    "x_train, x_test, y_train, y_test = train_test_split(x, y, test_size=0.4)\n",
    "\n",
    "# fit the model with data\n",
    "logreg.fit(x_train, y_train)\n",
    "\n",
    "# Accuracy\n",
    "print (logreg.score(x_train, y_train))\n",
    "print (logreg.score(x_test, y_test))"
   ]
  },
  {
   "cell_type": "markdown",
   "metadata": {},
   "source": [
    "# Naive Bayes"
   ]
  },
  {
   "cell_type": "code",
   "execution_count": 9,
   "metadata": {
    "collapsed": false
   },
   "outputs": [
    {
     "name": "stdout",
     "output_type": "stream",
     "text": [
      "0.644250428248\n",
      "0.649316203896\n"
     ]
    }
   ],
   "source": [
    "# gnb = GaussianNB()\n",
    "# y_pred = gnb.fit(x_train, y_train).predict(y_test)\n",
    "from sklearn.naive_bayes import MultinomialNB\n",
    "clf = MultinomialNB()\n",
    "clf.fit(x_train, y_train)\n",
    "print (clf.score(x_train, y_train))\n",
    "print (clf.score(x_test, y_test))"
   ]
  }
 ],
 "metadata": {
  "kernelspec": {
   "display_name": "Python 2",
   "language": "python",
   "name": "python2"
  },
  "language_info": {
   "codemirror_mode": {
    "name": "ipython",
    "version": 2
   },
   "file_extension": ".py",
   "mimetype": "text/x-python",
   "name": "python",
   "nbconvert_exporter": "python",
   "pygments_lexer": "ipython2",
   "version": "2.7.12"
  }
 },
 "nbformat": 4,
 "nbformat_minor": 0
}
