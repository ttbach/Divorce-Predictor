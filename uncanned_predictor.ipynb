{
 "cells": [
  {
   "cell_type": "markdown",
   "metadata": {},
   "source": [
    "# Naive Bayes on uncanned data from US Census Bureau \n",
    "Table taken from page 7 of report (https://www.census.gov/content/dam/Census/library/publications/2015/acs/acs-30.pdf)"
   ]
  },
  {
   "cell_type": "markdown",
   "metadata": {},
   "source": [
    "# Set up and initializations\n",
    "\n",
    "Run this at the start."
   ]
  },
  {
   "cell_type": "code",
   "execution_count": 7,
   "metadata": {
    "collapsed": false
   },
   "outputs": [],
   "source": [
    "import pandas as pd\n",
    "from IPython.display import display\n",
    "\n",
    "# Dictionary that maps from abbreviation to feature in table (i.e. r0 = 'White alone')\n",
    "from dictionary import dictionary as dictt \n",
    "\n",
    "# Initializing tables\n",
    "maritalStatus = pd.read_csv('data/maritalStatus.csv') \n",
    "race = pd.read_csv('data/race.csv') \n",
    "nativity = pd.read_csv('data/nativity.csv')   \n",
    "education = pd.read_csv('data/education.csv') \n",
    "employment = pd.read_csv('data/employment.csv') \n",
    "income = pd.read_csv('data/income.csv') \n",
    "tenure = pd.read_csv('data/tenure.csv')  \n",
    "\n",
    "# Setting values for percentages of each marriage status\n",
    "mStats = maritalStatus['Percentage']"
   ]
  },
  {
   "cell_type": "markdown",
   "metadata": {},
   "source": [
    "# Helper Methods\n",
    "\n",
    "```jointP(event, numMarriages)``` returns the joint probability of an event and a marriage outcome. It expects the following as inputs:\n",
    "1. event is a string abbreviation of a subfeature (i.e. r0 --> 'White Alone')\n",
    "2. numMarriages is an int, where the number indicates number of marriages (i.e. 0 for never, 1 for once, 2 for twice, 3 for three times or more)\n",
    "\n",
    "```conditionalP(event, numMarriages)``` returns the conditional probability between an event and a marriage outcome. Expects the same inputs as jointP"
   ]
  },
  {
   "cell_type": "code",
   "execution_count": 8,
   "metadata": {
    "collapsed": false
   },
   "outputs": [],
   "source": [
    "# Returns the joint probability of an event and a marriage outcome\n",
    "def jointP(event, numMarriages):\n",
    "    # Look up feature mapped to event abbreviation in dictionary, dictt\n",
    "    e = dictt[event]\n",
    "    if (len(event) == 2):\n",
    "        feature = event[0]\n",
    "        if (feature == 'r'):\n",
    "            return race[e][numMarriages]\n",
    "        elif (feature == 'n'):\n",
    "            return nativity[e][numMarriages]\n",
    "        elif (feature == 'i'):\n",
    "            return income[e][numMarriages]\n",
    "        elif (feature == 't'):\n",
    "            return tenure[e][numMarriages]\n",
    "        else:\n",
    "            return \"Unacceptable input. Feature not found.\"\n",
    "    else:\n",
    "        feature = event[:2]\n",
    "        if (feature == 'ed'):\n",
    "            return education[e][numMarriages]\n",
    "        elif (feature == 'em'):\n",
    "            return employment[e][numMarriages]\n",
    "        else:\n",
    "            return \"Unacceptable input. Feature not found.\"\n",
    "    \n",
    "# Returns the conditional probability between an event and a marriage outcome\n",
    "def conditionalP(event, numMarriages):\n",
    "    return jointP(event, numMarriages)/mStats[numMarriages]\n"
   ]
  },
  {
   "cell_type": "markdown",
   "metadata": {},
   "source": [
    "# Prediction\n",
    "\n",
    "Implements a Naive Bayes algorithm to predict the probabilities of a person being married once, twice, three or more times, or never based on his/her background in race, nativity, education, employment, income, and/or tenure."
   ]
  },
  {
   "cell_type": "code",
   "execution_count": 27,
   "metadata": {
    "collapsed": false
   },
   "outputs": [],
   "source": [
    "from Queue import PriorityQueue\n",
    "\n",
    "# Prints out probabilities of all the marriage outcome in ASCENDING order given a person's background\n",
    "# features is an array of string abbreviations of a person's background\n",
    "def predict(features):\n",
    "    # Initializing relative probabilityies for 4 types of marriages\n",
    "    never = mStats[0]\n",
    "    once = mStats[1]\n",
    "    twice = mStats[2]\n",
    "    three = mStats[3]\n",
    "    \n",
    "    # Iterate through each feature\n",
    "    for f in features:\n",
    "        # Calculate relative probability for 4 marriage outcomes\n",
    "        never *= conditionalP(f, 0)\n",
    "        once *= conditionalP(f, 1)\n",
    "        twice *= conditionalP(f, 2)\n",
    "        three *= conditionalP(f, 3)\n",
    "    \n",
    "    # Calculate actual probability for 4 marriage outcomes\n",
    "    total = never + once + twice + three\n",
    "    p0 = never/total*100\n",
    "    p1 = once/total*100\n",
    "    p2 = twice/total*100\n",
    "    p3 = three/total*100\n",
    "    \n",
    "    # Create a minheap to store probabilities for each marriage outcome\n",
    "    q = PriorityQueue()\n",
    "    \n",
    "    # Add to the heap a tuple that stores [probability of an outcome, string representation of the outcome]\n",
    "    q.put((round(p0, 2),'never'))\n",
    "    q.put((round(p1, 2),'once'))\n",
    "    q.put((round(p2, 2),'twice'))\n",
    "    q.put((round(p3, 2),'three'))\n",
    "    \n",
    "    # Pop the tuples from the heap. Results are in ascending order.\n",
    "    while not q.empty():\n",
    "        print q.get()\n",
    "    print \"\\n\""
   ]
  },
  {
   "cell_type": "markdown",
   "metadata": {
    "collapsed": true
   },
   "source": [
    "# Test\n",
    "\n",
    "Below are made-up full feature vectors to test the model. The people are both made-up and real."
   ]
  },
  {
   "cell_type": "code",
   "execution_count": 37,
   "metadata": {
    "collapsed": false
   },
   "outputs": [
    {
     "name": "stdout",
     "output_type": "stream",
     "text": [
      "Predicting person who's 2 or more race, native, less than high school, employed, income over $100k, and rents home:\n",
      "(2.33, 'three')\n",
      "(9.08, 'twice')\n",
      "(41.6, 'once')\n",
      "(46.98, 'never')\n",
      "\n",
      "\n",
      "Predicting person who's white alone, native, bachelor's degree, employed, income over $100k, and owns home:\n",
      "In reality, this person has been married 3 times.\n",
      "(2.22, 'three')\n",
      "(3.96, 'never')\n",
      "(14.99, 'twice')\n",
      "(78.84, 'once')\n",
      "\n",
      "\n",
      "Predicting person who's hispanic (of any race), foreign born, less than high school, unemployed, income less than $25k, and rents home:\n",
      "(0.12, 'three')\n",
      "(1.03, 'twice')\n",
      "(11.69, 'once')\n",
      "(87.16, 'never')\n",
      "\n",
      "\n",
      "Prediction person who's American Indian and Alaska Native alone, native, high school graduate, and income ranges from $75,000 to $99,999\n",
      "(6.07, 'three')\n",
      "(17.41, 'never')\n",
      "(20.36, 'twice')\n",
      "(56.16, 'once')\n",
      "\n",
      "\n"
     ]
    }
   ],
   "source": [
    "# Person 1: 2 or more race, native, less than high school, employed, income over $100k, and rents home\n",
    "print ('Predicting person who\\'s 2 or more race, native, less than high school, employed, income over $100k, and rents home:')\n",
    "predict(['r7', 'n0', 'ed0', 'em0', 'i4', 't1'])\n",
    "\n",
    "# Person 2: Hugh Hefner\n",
    "print ('Predicting person who\\'s white alone, native, bachelor\\'s degree, employed, income over $100k, and owns home:')\n",
    "print ('In reality, this person has been married 3 times.')\n",
    "predict(['r0', 'n0', 'ed3', 'em0', 'i4', 't0'])\n",
    "\n",
    "# Person 3: hispanic (of any race), foreign born, less than high school, unemployed, income less than $25k, and rents home:\n",
    "print ('Predicting person who\\'s hispanic (of any race), foreign born, less than high school, unemployed, income less than $25k, and rents home:')\n",
    "predict(['r8', 'n1', 'ed0', 'em1', 'i0', 't1'])\n",
    "\n",
    "# Person 4: American Indian and Alaska Native alone, native, high school graduate, and income ranges from $75,000 to $99,999\n",
    "print ('Prediction person who\\'s American Indian and Alaska Native alone, native, high school graduate, and income ranges from $75,000 to $99,999')\n",
    "predict(['r3', 'n0', 'ed1', 'i3'])"
   ]
  }
 ],
 "metadata": {
  "anaconda-cloud": {},
  "kernelspec": {
   "display_name": "Python 2",
   "language": "python",
   "name": "python2"
  },
  "language_info": {
   "codemirror_mode": {
    "name": "ipython",
    "version": 2
   },
   "file_extension": ".py",
   "mimetype": "text/x-python",
   "name": "python",
   "nbconvert_exporter": "python",
   "pygments_lexer": "ipython2",
   "version": "2.7.12"
  }
 },
 "nbformat": 4,
 "nbformat_minor": 0
}
